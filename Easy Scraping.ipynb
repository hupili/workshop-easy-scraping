{
 "cells": [
  {
   "cell_type": "markdown",
   "metadata": {},
   "source": [
    "# Easy Scraping\n",
    "\n",
    "Demo: scrapely, python-readability, pyQuery, httpie\n",
    "\n",
    "Prerequisites:\n",
    "\n",
    "* Python3\n",
    "* `pip install -r reuiqrements.txt`"
   ]
  },
  {
   "cell_type": "markdown",
   "metadata": {},
   "source": [
    "Useful trick in IPython notebook"
   ]
  },
  {
   "cell_type": "code",
   "execution_count": 48,
   "metadata": {
    "collapsed": true
   },
   "outputs": [],
   "source": [
    "from IPython.core.display import HTML"
   ]
  },
  {
   "cell_type": "code",
   "execution_count": 61,
   "metadata": {
    "collapsed": false
   },
   "outputs": [
    {
     "data": {
      "text/html": [
       "Logo of Initium Lab: <img src=\"http://initiumlab.com/favicon-32x32.png\">"
      ],
      "text/plain": [
       "<IPython.core.display.HTML object>"
      ]
     },
     "execution_count": 61,
     "metadata": {},
     "output_type": "execute_result"
    }
   ],
   "source": [
    "HTML('Logo of Initium Lab: <img src=\"%s\">' % 'http://initiumlab.com/favicon-32x32.png')"
   ]
  },
  {
   "cell_type": "markdown",
   "metadata": {},
   "source": [
    "A small hack to allow longer output area"
   ]
  },
  {
   "cell_type": "code",
   "execution_count": 58,
   "metadata": {
    "collapsed": false
   },
   "outputs": [
    {
     "data": {
      "application/javascript": [
       "//IPython.OutputArea.auto_scroll_threshold = 9999;\n",
       "IPython.OutputArea.prototype._should_scroll = function(){return false;}"
      ],
      "text/plain": [
       "<IPython.core.display.Javascript object>"
      ]
     },
     "metadata": {},
     "output_type": "display_data"
    }
   ],
   "source": [
    "%%javascript\n",
    "//IPython.OutputArea.auto_scroll_threshold = 9999;\n",
    "IPython.OutputArea.prototype._should_scroll = function(){return false;}"
   ]
  },
  {
   "cell_type": "markdown",
   "metadata": {},
   "source": [
    "## Readability\n",
    "\n",
    "We use a version ported to Python3:\n",
    "<https://github.com/hyperlinkapp/python-readability>\n",
    "(already included in the `reuqirements.txt` file)"
   ]
  },
  {
   "cell_type": "code",
   "execution_count": 23,
   "metadata": {
    "collapsed": false
   },
   "outputs": [],
   "source": [
    "from readability.readability import Document\n",
    "import requests\n",
    "html = requests.get('http://initiumlab.com/').content\n",
    "readable_article = Document(html).summary()\n",
    "readable_title = Document(html).short_title()"
   ]
  },
  {
   "cell_type": "code",
   "execution_count": 24,
   "metadata": {
    "collapsed": false
   },
   "outputs": [
    {
     "name": "stdout",
     "output_type": "stream",
     "text": [
      "<html><body><div><div class=\"post-body\">\n",
      "\n",
      "      \n",
      "      \n",
      "\n",
      "      \n",
      "        \n",
      "          <video controls=\"\" poster=\"./blog/20150922-jackathon3-review/jackathon3-timelapse-poster.png\"><br/>  <source src=\"./blog/20150922-jackathon3-review/jackathon3-timelapse.mp4\" type=\"video/mp4\"/><br/>  <source src=\"./blog/20150922-jackathon3-review/jackathon3-timelapse.webm\" type=\"video/webm\"/><br/>  Sorry, you browser does not support HTML5 video.<br/></video>\n",
      "\n",
      "<p>The video is also available on <a href=\"https://youtu.be/zFeSh2W1_C8\">YouTube</a> and <a href=\"http://v.youku.com/v_show/id_XMTM0MzM1MjEwMA==.html?from=y1.7-2\">Youku</a>.</p>\n",
      "<h2 id=\"What_did_we_do?\">What did we do?</h2><p>Jackathon is short for “Journalism-Hackathon”. At Initium Lab, we aim to push limits of Journalism with Technology. We hold regular Jackathons to advance our knowledge and skills in using new technology for obtaining data, analysing information, and reporting.</p>\n",
      "<p>This week, the goal for each participant is to read one the the <a href=\"http://www.kdnuggets.com/2015/09/free-data-science-books.html\">60 Data Science books collected by KDnuggets</a> within 8 hours.<br/>Participants could pick one or two books to finish reading in 8 hours and present findings / insights to the others.</p>\n",
      "          \n",
      "        \n",
      "      \n",
      "    </div>\n",
      "\n",
      "    </div></body></html>\n"
     ]
    }
   ],
   "source": [
    "print(readable_article)"
   ]
  },
  {
   "cell_type": "code",
   "execution_count": 25,
   "metadata": {
    "collapsed": false
   },
   "outputs": [
    {
     "data": {
      "text/html": [
       "<html><body><div><div class=\"post-body\">\n",
       "\n",
       "      \n",
       "      \n",
       "\n",
       "      \n",
       "        \n",
       "          <video controls=\"\" poster=\"./blog/20150922-jackathon3-review/jackathon3-timelapse-poster.png\"><br/>  <source src=\"./blog/20150922-jackathon3-review/jackathon3-timelapse.mp4\" type=\"video/mp4\"/><br/>  <source src=\"./blog/20150922-jackathon3-review/jackathon3-timelapse.webm\" type=\"video/webm\"/><br/>  Sorry, you browser does not support HTML5 video.<br/></video>\n",
       "\n",
       "<p>The video is also available on <a href=\"https://youtu.be/zFeSh2W1_C8\">YouTube</a> and <a href=\"http://v.youku.com/v_show/id_XMTM0MzM1MjEwMA==.html?from=y1.7-2\">Youku</a>.</p>\n",
       "<h2 id=\"What_did_we_do?\">What did we do?</h2><p>Jackathon is short for “Journalism-Hackathon”. At Initium Lab, we aim to push limits of Journalism with Technology. We hold regular Jackathons to advance our knowledge and skills in using new technology for obtaining data, analysing information, and reporting.</p>\n",
       "<p>This week, the goal for each participant is to read one the the <a href=\"http://www.kdnuggets.com/2015/09/free-data-science-books.html\">60 Data Science books collected by KDnuggets</a> within 8 hours.<br/>Participants could pick one or two books to finish reading in 8 hours and present findings / insights to the others.</p>\n",
       "          \n",
       "        \n",
       "      \n",
       "    </div>\n",
       "\n",
       "    </div></body></html>"
      ],
      "text/plain": [
       "<IPython.core.display.HTML object>"
      ]
     },
     "execution_count": 25,
     "metadata": {},
     "output_type": "execute_result"
    }
   ],
   "source": [
    "HTML(readable_article)"
   ]
  },
  {
   "cell_type": "markdown",
   "metadata": {},
   "source": [
    "## PyQuery\n",
    "\n",
    "Let's fix the above URL problems"
   ]
  },
  {
   "cell_type": "code",
   "execution_count": 36,
   "metadata": {
    "collapsed": false
   },
   "outputs": [
    {
     "data": {
      "text/plain": [
       "[<p>, <p>, <p>]"
      ]
     },
     "execution_count": 36,
     "metadata": {},
     "output_type": "execute_result"
    }
   ],
   "source": [
    "import pyquery\n",
    "r = pyquery.PyQuery(readable_article)\n",
    "r('p')"
   ]
  },
  {
   "cell_type": "code",
   "execution_count": 38,
   "metadata": {
    "collapsed": false
   },
   "outputs": [
    {
     "data": {
      "text/plain": [
       "'./blog/20150922-jackathon3-review/jackathon3-timelapse-poster.png'"
      ]
     },
     "execution_count": 38,
     "metadata": {},
     "output_type": "execute_result"
    }
   ],
   "source": [
    "r('video').attr('poster')"
   ]
  },
  {
   "cell_type": "code",
   "execution_count": 40,
   "metadata": {
    "collapsed": false
   },
   "outputs": [
    {
     "data": {
      "text/plain": [
       "'./blog/20150922-jackathon3-review/jackathon3-timelapse.mp4'"
      ]
     },
     "execution_count": 40,
     "metadata": {},
     "output_type": "execute_result"
    }
   ],
   "source": [
    "r('video source').attr('src')"
   ]
  },
  {
   "cell_type": "code",
   "execution_count": 41,
   "metadata": {
    "collapsed": false
   },
   "outputs": [
    {
     "data": {
      "text/plain": [
       "[<video>]"
      ]
     },
     "execution_count": 41,
     "metadata": {},
     "output_type": "execute_result"
    }
   ],
   "source": [
    "r('video').attr('poster', 'http://initiumlab.com/%s' % r('video').attr('poster'))"
   ]
  },
  {
   "cell_type": "code",
   "execution_count": 42,
   "metadata": {
    "collapsed": false
   },
   "outputs": [
    {
     "data": {
      "text/plain": [
       "'http://initiumlab.com/./blog/20150922-jackathon3-review/jackathon3-timelapse-poster.png'"
      ]
     },
     "execution_count": 42,
     "metadata": {},
     "output_type": "execute_result"
    }
   ],
   "source": [
    "r('video').attr('poster')"
   ]
  },
  {
   "cell_type": "code",
   "execution_count": 43,
   "metadata": {
    "collapsed": false
   },
   "outputs": [
    {
     "data": {
      "text/plain": [
       "[<source>, <source>]"
      ]
     },
     "execution_count": 43,
     "metadata": {},
     "output_type": "execute_result"
    }
   ],
   "source": [
    "r('video source').attr('src', 'http://initiumlab.com/%s' % r('video source').attr('src'))"
   ]
  },
  {
   "cell_type": "code",
   "execution_count": 44,
   "metadata": {
    "collapsed": false
   },
   "outputs": [
    {
     "data": {
      "text/plain": [
       "'http://initiumlab.com/./blog/20150922-jackathon3-review/jackathon3-timelapse.mp4'"
      ]
     },
     "execution_count": 44,
     "metadata": {},
     "output_type": "execute_result"
    }
   ],
   "source": [
    "r('video source').attr('src')"
   ]
  },
  {
   "cell_type": "code",
   "execution_count": 45,
   "metadata": {
    "collapsed": false,
    "scrolled": true
   },
   "outputs": [
    {
     "data": {
      "text/plain": [
       "'<body><div><div class=\"post-body\">\\n\\n      \\n      \\n\\n      \\n        \\n          <video controls=\"\" poster=\"http://initiumlab.com/./blog/20150922-jackathon3-review/jackathon3-timelapse-poster.png\"><br/>  <source src=\"http://initiumlab.com/./blog/20150922-jackathon3-review/jackathon3-timelapse.mp4\" type=\"video/mp4\"/><br/>  <source src=\"http://initiumlab.com/./blog/20150922-jackathon3-review/jackathon3-timelapse.mp4\" type=\"video/webm\"/><br/>  Sorry, you browser does not support HTML5 video.<br/></video>\\n\\n<p>The video is also available on <a href=\"https://youtu.be/zFeSh2W1_C8\">YouTube</a> and <a href=\"http://v.youku.com/v_show/id_XMTM0MzM1MjEwMA==.html?from=y1.7-2\">Youku</a>.</p>\\n<h2 id=\"What_did_we_do?\">What did we do?</h2><p>Jackathon is short for “Journalism-Hackathon”. At Initium Lab, we aim to push limits of Journalism with Technology. We hold regular Jackathons to advance our knowledge and skills in using new technology for obtaining data, analysing information, and reporting.</p>\\n<p>This week, the goal for each participant is to read one the the <a href=\"http://www.kdnuggets.com/2015/09/free-data-science-books.html\">60 Data Science books collected by KDnuggets</a> within 8 hours.<br/>Participants could pick one or two books to finish reading in 8 hours and present findings / insights to the others.</p>\\n          \\n        \\n      \\n    </div>\\n\\n    </div></body>'"
      ]
     },
     "execution_count": 45,
     "metadata": {},
     "output_type": "execute_result"
    }
   ],
   "source": [
    "r.html()"
   ]
  },
  {
   "cell_type": "code",
   "execution_count": 54,
   "metadata": {
    "collapsed": false
   },
   "outputs": [
    {
     "data": {
      "application/javascript": [
       "IPython.OutputArea.auto_scroll_threshold = 9999;"
      ],
      "text/plain": [
       "<IPython.core.display.Javascript object>"
      ]
     },
     "metadata": {},
     "output_type": "display_data"
    }
   ],
   "source": [
    "%%javascript\n",
    "//IPython.OutputArea.auto_scroll_threshold = 9999;\n",
    "IPython.OutputArea.prototype._should_scroll = function(){return false;}"
   ]
  },
  {
   "cell_type": "code",
   "execution_count": 57,
   "metadata": {
    "collapsed": false,
    "scrolled": true
   },
   "outputs": [
    {
     "data": {
      "text/html": [
       "<body><div><div class=\"post-body\">\n",
       "\n",
       "      \n",
       "      \n",
       "\n",
       "      \n",
       "        \n",
       "          <video controls=\"\" poster=\"http://initiumlab.com/./blog/20150922-jackathon3-review/jackathon3-timelapse-poster.png\"><br/>  <source src=\"http://initiumlab.com/./blog/20150922-jackathon3-review/jackathon3-timelapse.mp4\" type=\"video/mp4\"/><br/>  <source src=\"http://initiumlab.com/./blog/20150922-jackathon3-review/jackathon3-timelapse.mp4\" type=\"video/webm\"/><br/>  Sorry, you browser does not support HTML5 video.<br/></video>\n",
       "\n",
       "<p>The video is also available on <a href=\"https://youtu.be/zFeSh2W1_C8\">YouTube</a> and <a href=\"http://v.youku.com/v_show/id_XMTM0MzM1MjEwMA==.html?from=y1.7-2\">Youku</a>.</p>\n",
       "<h2 id=\"What_did_we_do?\">What did we do?</h2><p>Jackathon is short for “Journalism-Hackathon”. At Initium Lab, we aim to push limits of Journalism with Technology. We hold regular Jackathons to advance our knowledge and skills in using new technology for obtaining data, analysing information, and reporting.</p>\n",
       "<p>This week, the goal for each participant is to read one the the <a href=\"http://www.kdnuggets.com/2015/09/free-data-science-books.html\">60 Data Science books collected by KDnuggets</a> within 8 hours.<br/>Participants could pick one or two books to finish reading in 8 hours and present findings / insights to the others.</p>\n",
       "          \n",
       "        \n",
       "      \n",
       "    </div>\n",
       "\n",
       "    </div></body>"
      ],
      "text/plain": [
       "<IPython.core.display.HTML object>"
      ]
     },
     "execution_count": 57,
     "metadata": {},
     "output_type": "execute_result"
    }
   ],
   "source": [
    "HTML(r.html())"
   ]
  },
  {
   "cell_type": "code",
   "execution_count": 12,
   "metadata": {
    "collapsed": true
   },
   "outputs": [],
   "source": []
  },
  {
   "cell_type": "code",
   "execution_count": 26,
   "metadata": {
    "collapsed": false
   },
   "outputs": [],
   "source": [
    "#html.content"
   ]
  },
  {
   "cell_type": "code",
   "execution_count": null,
   "metadata": {
    "collapsed": true
   },
   "outputs": [],
   "source": []
  }
 ],
 "metadata": {
  "kernelspec": {
   "display_name": "Python 3",
   "language": "python",
   "name": "python3"
  },
  "language_info": {
   "codemirror_mode": {
    "name": "ipython",
    "version": 3
   },
   "file_extension": ".py",
   "mimetype": "text/x-python",
   "name": "python",
   "nbconvert_exporter": "python",
   "pygments_lexer": "ipython3",
   "version": "3.4.3"
  }
 },
 "nbformat": 4,
 "nbformat_minor": 0
}
